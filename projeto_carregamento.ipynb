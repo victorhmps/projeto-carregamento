{
 "cells": [
  {
   "cell_type": "code",
   "execution_count": 1,
   "id": "cbdf060f-b9f7-4ef9-bb8d-48dab23c1ea2",
   "metadata": {},
   "outputs": [],
   "source": [
    "class Cliente:\n",
    "    def __init__(self,umaData, umNomeCliente,umaUnidade,umValorAnterior, umChequeRecebido):\n",
    "        self.data = umaData\n",
    "        self.nomeCliente = umNomeCliente\n",
    "        self.unidade = umaUnidade\n",
    "        self.valorAnterior = umValorAnterior\n",
    "        self.chequeRecebido = umChequeRecebido        \n",
    "        self.valorCarregamentoDia = 0\n",
    "        self.valorTotal = 0\n",
    "\n",
    "    \n",
    "    def alterarCarregamentoDia(self, alterarCarregamentoDia):\n",
    "        self.valorCarregamentoDia = alterarCarregamentoDia\n",
    "        \n",
    "    def calcularValor(self):\n",
    "        self.valorTotal = self.chequeRecebido + self.valorAnterior - self.valorCarregamentoDia\n",
    "        \n",
    "    def imprimir(self):\n",
    "        print(\"Relatório de Crédito/Débitos pendentes\", \"\\nUnidade:\", self.unidade, \"\\nNome:\", self.nomeCliente, \n",
    "              \"\\nData:\", self.data, \"\\nValor Pendente: R$\", self.valorAnterior, \"\\nValor Recebido: R$\", self.chequeRecebido, \n",
    "              \"\\nValor total dos carregamentos do dia: R$\", self.valorCarregamentoDia, \"\\nValor final: R$\", self.valorTotal)\n",
    "        \n",
    "        \n",
    "        \n",
    "        "
   ]
  },
  {
   "cell_type": "code",
   "execution_count": 3,
   "id": "8f10e681-aeaa-4ec4-8861-acbc693c43a6",
   "metadata": {},
   "outputs": [
    {
     "name": "stdout",
     "output_type": "stream",
     "text": [
      "\n",
      "Bem vindo ao Sistema de Crédito/Débito de Carregamentos.\n"
     ]
    },
    {
     "name": "stdin",
     "output_type": "stream",
     "text": [
      "Deseja realizar o relatório de Crédito/Débito? 1 - Sim/ 2 - Não\n",
      " 1\n",
      "Digite a unidade do carregamento:\n",
      " Aoki Filial\n",
      "Digite o nome do cliente:\n",
      " Hailton Mariano\n",
      "Digite a data do carregamento: (ex: 00/00/0000)\n",
      " 07/07/2024\n",
      "Digite o Crédito/Débito anterior ao carregamento:\n",
      " -100\n",
      "Digite o valor do cheque recebido:\n",
      " 1500\n",
      "Digite o valor do primeiro carregamento:\n",
      " 250\n",
      "Digite o valor do segundo carregamento:\n",
      " 300\n",
      "Deseja acrescentar mais carregamentos ? 1 - Sim/ 2 - Não\n",
      " 1\n",
      "Digite o valor do terceiro carregamento:\n",
      " 200\n",
      "Digite o valor do terceiro carregamento:\n",
      " 200\n"
     ]
    },
    {
     "name": "stdout",
     "output_type": "stream",
     "text": [
      "Relatório de Crédito/Débitos pendentes \n",
      "Unidade: Aoki Filial \n",
      "Nome: Hailton Mariano \n",
      "Data: 07/07/2024 \n",
      "Valor Pendente: -100.0 \n",
      "Valor Recebido: 1500.0 \n",
      "Valor total dos carregamentos do dia: 950.0 \n",
      "Valor final: 450.0\n"
     ]
    },
    {
     "name": "stdin",
     "output_type": "stream",
     "text": [
      "Deseja realizar o relatório de Crédito/Débito? 1 - Sim/ 2 - Não\n",
      " 2\n"
     ]
    },
    {
     "name": "stdout",
     "output_type": "stream",
     "text": [
      "Finalizando.\n"
     ]
    }
   ],
   "source": [
    "print(\"\\nBem vindo ao Sistema de Crédito/Débito de Carregamentos.\")\n",
    "\n",
    "listaCarregamentoDia = []\n",
    "\n",
    "while True:\n",
    "    \n",
    "    validacao = int(input(\"Deseja realizar o relatório de Crédito/Débito? 1 - Sim/ 2 - Não\\n\"))\n",
    "    \n",
    "    if validacao == 1:\n",
    "        unidade = input(\"Digite a unidade do carregamento:\\n\")\n",
    "        nome = input(\"Digite o nome do cliente:\\n\")\n",
    "        data = input(\"Digite a data do carregamento: (ex: 00/00/0000)\\n\")\n",
    "        valorAnterior = float(input(\"Digite o Crédito/Débito anterior ao carregamento:\\n\"))\n",
    "        chequeRecebido = float(input(\"Digite o valor do cheque recebido:\\n\"))\n",
    "        cliente = Cliente(data,nome,unidade,valorAnterior,chequeRecebido)\n",
    "\n",
    "\n",
    "        listaCarregamentoDia.append(float(input(\"Digite o valor do primeiro carregamento:\\n\")))\n",
    "        listaCarregamentoDia.append(float(input(\"Digite o valor do segundo carregamento:\\n\")))    \n",
    "\n",
    "\n",
    "        validacao_2 = int(input(\"Deseja acrescentar mais carregamentos ? 1 - Sim/ 2 - Não\\n\"))\n",
    "\n",
    "        if validacao_2 == 1:\n",
    "            listaCarregamentoDia.append(float(input(\"Digite o valor do terceiro carregamento:\\n\")))\n",
    "            listaCarregamentoDia.append(float(input(\"Digite o valor do terceiro carregamento:\\n\")))\n",
    "            soma = sum(listaCarregamentoDia)\n",
    "            cliente.alterarCarregamentoDia(soma)\n",
    "            cliente.calcularValor()\n",
    "            cliente.imprimir()\n",
    "            continue\n",
    "\n",
    "        else:\n",
    "            soma = sum(listaCarregamentoDia)\n",
    "            cliente.alterarCarregamentoDia(soma)\n",
    "            cliente.calcularValor()\n",
    "            cliente.imprimir()\n",
    "            continue\n",
    "\n",
    "    else:\n",
    "        print(\"Finalizando.\")\n",
    "        break\n",
    "    \n",
    "    "
   ]
  },
  {
   "cell_type": "code",
   "execution_count": null,
   "id": "51cb51ca-6ef6-41ff-bc8e-2b019764e449",
   "metadata": {},
   "outputs": [],
   "source": []
  },
  {
   "cell_type": "code",
   "execution_count": null,
   "id": "be70044d-f5ff-4427-95b3-f108b153fd9b",
   "metadata": {},
   "outputs": [],
   "source": []
  }
 ],
 "metadata": {
  "kernelspec": {
   "display_name": "Python 3 (ipykernel)",
   "language": "python",
   "name": "python3"
  },
  "language_info": {
   "codemirror_mode": {
    "name": "ipython",
    "version": 3
   },
   "file_extension": ".py",
   "mimetype": "text/x-python",
   "name": "python",
   "nbconvert_exporter": "python",
   "pygments_lexer": "ipython3",
   "version": "3.9.13"
  }
 },
 "nbformat": 4,
 "nbformat_minor": 5
}
